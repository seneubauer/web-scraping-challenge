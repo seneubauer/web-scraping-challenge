{
 "cells": [
  {
   "cell_type": "markdown",
   "id": "ac2bb47b",
   "metadata": {},
   "source": [
    "### Import Dependencies"
   ]
  },
  {
   "cell_type": "code",
   "execution_count": null,
   "id": "993c9bef",
   "metadata": {},
   "outputs": [],
   "source": [
    "# for web scraping\n",
    "import requests\n",
    "from bs4 import BeautifulSoup as bs\n",
    "from splinter import Browser\n",
    "from webdriver_manager.chrome import ChromeDriverManager"
   ]
  },
  {
   "cell_type": "code",
   "execution_count": null,
   "id": "e9b23713",
   "metadata": {},
   "outputs": [],
   "source": [
    "# for general use\n",
    "import pandas as pd\n",
    "import os"
   ]
  },
  {
   "cell_type": "markdown",
   "id": "6b3cc1de",
   "metadata": {},
   "source": [
    "### Setup"
   ]
  },
  {
   "cell_type": "code",
   "execution_count": null,
   "id": "a829e751",
   "metadata": {},
   "outputs": [],
   "source": [
    "# set up the splinter service\n",
    "executable_path = {\"executable_path\": ChromeDriverManager().install()}\n",
    "browser = Browser(\"chrome\", **executable_path, headless = False)"
   ]
  },
  {
   "cell_type": "markdown",
   "id": "d0ffd640",
   "metadata": {},
   "source": [
    "### Web Scraping"
   ]
  },
  {
   "cell_type": "code",
   "execution_count": null,
   "id": "33a6b4bd",
   "metadata": {},
   "outputs": [],
   "source": [
    "# specify the initial browser URL\n",
    "web_url = \"https://redplanetscience.com\"\n",
    "\n",
    "# send the browser to the specified URL\n",
    "browser.visit(web_url)\n",
    "\n",
    "# define the BeautifulSoup instance\n",
    "soup = bs(browser.html, \"html.parser\")\n",
    "\n",
    "# retrieve a list of the matching HTML elements\n",
    "results = soup.body.find_all(\"div\", class_ = \"list_text\")\n",
    "\n",
    "# get the title and paragraph from the first item in the collection\n",
    "news_title = results[0].find(\"div\", class_ = \"content_title\").text.strip()\n",
    "news_paragraph = results[0].find(\"div\", class_ = \"article_teaser_body\").text.strip()"
   ]
  },
  {
   "cell_type": "code",
   "execution_count": null,
   "id": "16f5918c",
   "metadata": {},
   "outputs": [],
   "source": [
    "# specify the second browser URL\n",
    "web_url = \"https://spaceimages-mars.com\"\n",
    "\n",
    "# send the browser to the specified URL\n",
    "browser.visit(web_url)\n",
    "\n",
    "# navigate to and select the Mars option\n",
    "browser.find_by_id(\"options\").select_by_text(\"Mars\")\n",
    "\n",
    "# define the BeautifulSoup instance\n",
    "soup = bs(browser.html, \"html.parser\")\n",
    "\n",
    "# get the featured image full URL\n",
    "featured_image_url = f'{web_url}/{soup.body.find(\"img\", class_ = \"headerimage fade-in\")[\"src\"]}'"
   ]
  },
  {
   "cell_type": "code",
   "execution_count": null,
   "id": "809986a3",
   "metadata": {},
   "outputs": [],
   "source": [
    "browser.quit()"
   ]
  },
  {
   "cell_type": "code",
   "execution_count": null,
   "id": "14f0b0f0",
   "metadata": {},
   "outputs": [],
   "source": []
  }
 ],
 "metadata": {
  "kernelspec": {
   "display_name": "Python 3 (ipykernel)",
   "language": "python",
   "name": "python3"
  },
  "language_info": {
   "codemirror_mode": {
    "name": "ipython",
    "version": 3
   },
   "file_extension": ".py",
   "mimetype": "text/x-python",
   "name": "python",
   "nbconvert_exporter": "python",
   "pygments_lexer": "ipython3",
   "version": "3.8.13"
  }
 },
 "nbformat": 4,
 "nbformat_minor": 5
}
