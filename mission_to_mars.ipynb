{
 "cells": [
  {
   "cell_type": "markdown",
   "id": "ac2bb47b",
   "metadata": {},
   "source": [
    "## Import Dependencies"
   ]
  },
  {
   "cell_type": "code",
   "execution_count": null,
   "id": "993c9bef",
   "metadata": {},
   "outputs": [],
   "source": [
    "# for web scraping\n",
    "from bs4 import BeautifulSoup as bs\n",
    "from splinter import Browser\n",
    "from webdriver_manager.chrome import ChromeDriverManager"
   ]
  },
  {
   "cell_type": "code",
   "execution_count": null,
   "id": "e9b23713",
   "metadata": {},
   "outputs": [],
   "source": [
    "# for general use\n",
    "import pandas as pd\n",
    "from json import dumps"
   ]
  },
  {
   "cell_type": "markdown",
   "id": "6b3cc1de",
   "metadata": {},
   "source": [
    "## Setup"
   ]
  },
  {
   "cell_type": "code",
   "execution_count": null,
   "id": "a829e751",
   "metadata": {},
   "outputs": [],
   "source": [
    "# set up the splinter service\n",
    "executable_path = {\"executable_path\": ChromeDriverManager().install()}\n",
    "browser = Browser(\"chrome\", **executable_path, headless = True)"
   ]
  },
  {
   "cell_type": "markdown",
   "id": "d0ffd640",
   "metadata": {},
   "source": [
    "## Web Scraping"
   ]
  },
  {
   "cell_type": "markdown",
   "id": "2688b8f8",
   "metadata": {},
   "source": [
    "##### NASA Mars News"
   ]
  },
  {
   "cell_type": "code",
   "execution_count": null,
   "id": "33a6b4bd",
   "metadata": {},
   "outputs": [],
   "source": [
    "# specify the initial browser URL\n",
    "web_url = \"https://redplanetscience.com\"\n",
    "\n",
    "# send the browser to the specified URL\n",
    "browser.visit(web_url)\n",
    "\n",
    "# define the BeautifulSoup instance\n",
    "soup = bs(browser.html, \"html.parser\")\n",
    "\n",
    "# retrieve a list of the matching HTML elements\n",
    "results = soup.body.find_all(\"div\", class_ = \"list_text\")\n",
    "\n",
    "# get the title and paragraph from the first item in the collection\n",
    "news_title = results[0].find(\"div\", class_ = \"content_title\").text.strip()\n",
    "news_paragraph = results[0].find(\"div\", class_ = \"article_teaser_body\").text.strip()\n",
    "\n",
    "# display the results\n",
    "print(f\"Title: {news_title}\")\n",
    "print(f\"Paragraph: {news_paragraph}\")"
   ]
  },
  {
   "cell_type": "markdown",
   "id": "af772ef5",
   "metadata": {},
   "source": [
    "##### JPL Mars Space Images - Featured Image"
   ]
  },
  {
   "cell_type": "code",
   "execution_count": null,
   "id": "16f5918c",
   "metadata": {},
   "outputs": [],
   "source": [
    "# specify the second browser URL\n",
    "web_url = \"https://spaceimages-mars.com\"\n",
    "\n",
    "# send the browser to the specified URL\n",
    "browser.visit(web_url)\n",
    "\n",
    "# navigate to and select the Mars option\n",
    "browser.find_by_id(\"options\").select_by_text(\"Mars\")\n",
    "\n",
    "# define the BeautifulSoup instance\n",
    "soup = bs(browser.html, \"html.parser\")\n",
    "\n",
    "# get the featured image full URL\n",
    "featured_image_url = f'{web_url}/{soup.body.find(\"img\", class_ = \"headerimage fade-in\")[\"src\"]}'\n",
    "\n",
    "# display the results\n",
    "print(f\"Image URL: {featured_image_url}\")"
   ]
  },
  {
   "cell_type": "markdown",
   "id": "04b0b68e",
   "metadata": {},
   "source": [
    "##### Mars Facts"
   ]
  },
  {
   "cell_type": "code",
   "execution_count": null,
   "id": "16ff1976",
   "metadata": {},
   "outputs": [],
   "source": [
    "# specify the second browser URL\n",
    "web_url = \"https://galaxyfacts-mars.com\"\n",
    "\n",
    "# convert the HTML into a list of DataFrames\n",
    "table_dfs = pd.read_html(\"https://galaxyfacts-mars.com\")\n",
    "\n",
    "# retrieve the corresponding DataFrame\n",
    "table_df = table_dfs[0]\n",
    "\n",
    "# convert the DataFrame into HTML\n",
    "table_html = table_df.to_html()\n",
    "\n",
    "# replace the default 'dataframe' class with the Boostrap class\n",
    "table_html = table_html.replace(\"dataframe\", \"table table-striped table-hover\")\n",
    "\n",
    "# display the results\n",
    "print(table_html)"
   ]
  },
  {
   "cell_type": "markdown",
   "id": "49d4f309",
   "metadata": {},
   "source": [
    "##### Mars Hemispheres"
   ]
  },
  {
   "cell_type": "code",
   "execution_count": null,
   "id": "39b80b9b",
   "metadata": {},
   "outputs": [],
   "source": [
    "# specify the initial browser URL\n",
    "web_url = \"https://marshemispheres.com\"\n",
    "\n",
    "# send the browser to the specified URL\n",
    "browser.visit(web_url)\n",
    "\n",
    "# define the BeautifulSoup instance\n",
    "soup = bs(browser.html, \"html.parser\")\n",
    "\n",
    "# retrieve a list of the HTML item elements\n",
    "results = soup.body.find(\"div\", class_ = \"collapsible results\").find_all(\"div\", class_ = \"item\")\n",
    "\n",
    "# initialize the list of dictionaries\n",
    "hemisphere_image_urls = []\n",
    "\n",
    "# extract the relevant information\n",
    "for result in results:\n",
    "    \n",
    "    # extract the relevant anchor\n",
    "    current_anchor = result.find(\"div\", class_ = \"description\").find(\"a\", class_ = \"itemLink product-item\")\n",
    "    \n",
    "    # extract the title\n",
    "    img_title = current_anchor.find(\"h3\").text.strip()\n",
    "    \n",
    "    # construct the link to the subpage\n",
    "    link = f'{web_url}/{current_anchor[\"href\"]}'\n",
    "    \n",
    "    # navigate to the subpage\n",
    "    browser.visit(link)\n",
    "    \n",
    "    # redefine the BeautifulSoup instance\n",
    "    soup = bs(browser.html, \"html.parser\")\n",
    "    \n",
    "    # extract the image link\n",
    "    img_link = f'{web_url}/{soup.body.find(\"img\", class_ = \"wide-image\")[\"src\"]}'\n",
    "    \n",
    "    # append the information to the list\n",
    "    hemisphere_image_urls.append({\"title\": img_title, \"img_url\": img_link})\n",
    "\n",
    "# display the results\n",
    "print(dumps(hemisphere_image_urls, indent = 4))"
   ]
  },
  {
   "cell_type": "code",
   "execution_count": null,
   "id": "809986a3",
   "metadata": {},
   "outputs": [],
   "source": [
    "# close the browser\n",
    "browser.quit()"
   ]
  },
  {
   "cell_type": "code",
   "execution_count": null,
   "id": "cb9f70f2",
   "metadata": {},
   "outputs": [],
   "source": []
  }
 ],
 "metadata": {
  "kernelspec": {
   "display_name": "Python 3 (ipykernel)",
   "language": "python",
   "name": "python3"
  },
  "language_info": {
   "codemirror_mode": {
    "name": "ipython",
    "version": 3
   },
   "file_extension": ".py",
   "mimetype": "text/x-python",
   "name": "python",
   "nbconvert_exporter": "python",
   "pygments_lexer": "ipython3",
   "version": "3.8.13"
  },
  "vscode": {
   "interpreter": {
    "hash": "bf66be1edf689d8e26383071d71e8172db72bec315ba02c64f9da34706d38082"
   }
  }
 },
 "nbformat": 4,
 "nbformat_minor": 5
}
